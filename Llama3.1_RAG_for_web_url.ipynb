{
  "cells": [
    {
      "cell_type": "code",
      "execution_count": 41,
      "metadata": {
        "colab": {
          "base_uri": "https://localhost:8080/",
          "height": 123
        },
        "id": "q7gKz7iUPJ6y",
        "outputId": "7f46ae9a-dc1c-4069-e5c3-a4de0fee6790"
      },
      "outputs": [
        {
          "data": {
            "text/plain": [
              "\"The meaning of life has been debated and explored by philosophers, theologians, scientists, and thinkers throughout history. There is no one definitive answer, as it can vary greatly depending on cultural, personal, and philosophical perspectives. Here are some possible interpretations:\\n\\n**Philosophical Perspectives:**\\n\\n1. **Hedonism**: Life's meaning is to pursue pleasure and happiness.\\n2. **Existentialism**: Life has no inherent meaning; we must create our own purpose through individual freedom and choice.\\n3. **Stoicism**: Life's meaning lies in living virtuously, cultivating inner strength, and accepting the natural order of things.\\n\\n**Religious Perspectives:**\\n\\n1. **Christianity**: The meaning of life is to know God, love Him, and live according to His will.\\n2. **Buddhism**: The meaning of life is to attain enlightenment (Nirvana), free from suffering and the cycle of rebirth.\\n3. **Islam**: The meaning of life is to submit to Allah's will, follow His laws, and strive for spiritual growth.\\n\\n**Scientific Perspectives:**\\n\\n1. **Biological Perspective**: Life's meaning lies in survival and reproduction, as driven by instinct, genetics, and evolution.\\n2. **Psychological Perspective**: Life's meaning is a product of personal experiences, emotions, and motivations, influenced by cognitive processes and social interactions.\\n\\n**Modern Views:**\\n\\n1. **Humanism**: The meaning of life is to cultivate human values such as empathy, kindness, and compassion.\\n2. **Transhumanism**: Life's meaning lies in the pursuit of technological advancements, scientific knowledge, and personal growth through artificial enhancements.\\n\\nUltimately, the meaning of life may be:\\n\\n* A mystery that cannot be fully understood or defined\\n* A deeply personal question, with answers varying from person to person\\n* A combination of various perspectives and experiences, shaped by our unique individualities\\n\\nWhat do you think?\""
            ]
          },
          "execution_count": 41,
          "metadata": {},
          "output_type": "execute_result"
        }
      ],
      "source": [
        "from langchain_community.llms import Ollama\n",
        "llm = Ollama(model = \"llama3.1\")\n",
        "llm.invoke(\"what is the Meaning of life\")"
      ]
    },
    {
      "cell_type": "code",
      "execution_count": 42,
      "metadata": {
        "colab": {
          "base_uri": "https://localhost:8080/"
        },
        "id": "fLNJWzd0Ul9V",
        "outputId": "2dae7d24-e1f3-401e-a4b8-a2db3bf9a6a6"
      },
      "outputs": [
        {
          "data": {
            "text/plain": [
              "{'status': 'success'}"
            ]
          },
          "execution_count": 42,
          "metadata": {},
          "output_type": "execute_result"
        }
      ],
      "source": [
        "ollama.pull(model=\"nomic-embed-text\")\n",
        "ollama.pull(model=\"llama3.1\")"
      ]
    },
    {
      "cell_type": "code",
      "execution_count": 40,
      "metadata": {
        "colab": {
          "background_save": true,
          "base_uri": "https://localhost:8080/"
        },
        "id": "DlJzBxznmQrw",
        "outputId": "5ca2ac60-801b-479e-d47c-1ac7a69c3bdd"
      },
      "outputs": [
        {
          "name": "stdout",
          "output_type": "stream",
          "text": [
            "Running on local URL:  http://127.0.0.1:7871\n",
            "\n",
            "To create a public link, set `share=True` in `launch()`.\n"
          ]
        },
        {
          "data": {
            "text/html": [
              "<div><iframe src=\"http://127.0.0.1:7871/\" width=\"100%\" height=\"500\" allow=\"autoplay; camera; microphone; clipboard-read; clipboard-write;\" frameborder=\"0\" allowfullscreen></iframe></div>"
            ],
            "text/plain": [
              "<IPython.core.display.HTML object>"
            ]
          },
          "metadata": {},
          "output_type": "display_data"
        },
        {
          "data": {
            "text/plain": []
          },
          "execution_count": 40,
          "metadata": {},
          "output_type": "execute_result"
        },
        {
          "name": "stdout",
          "output_type": "stream",
          "text": [
            "IMPORTANT: You are using gradio version 4.16.0, however version 4.29.0 is available, please upgrade.\n",
            "--------\n"
          ]
        }
      ],
      "source": [
        "import gradio as gr\n",
        "import ollama\n",
        "from bs4 import BeautifulSoup as bs\n",
        "from langchain.text_splitter import RecursiveCharacterTextSplitter\n",
        "from langchain_community.document_loaders import WebBaseLoader\n",
        "from langchain_community.vectorstores import FAISS\n",
        "from langchain_community.embeddings import OllamaEmbeddings\n",
        "\n",
        "# Load the data from the web URL\n",
        "url = 'https://simple.wikipedia.org/wiki/Luisa_Gonz%C3%A1lez'\n",
        "loader = WebBaseLoader(url)\n",
        "docs = loader.load()\n",
        "\n",
        "# Split the loaded documents into chunks\n",
        "text_splitter = RecursiveCharacterTextSplitter(chunk_size=1000, chunk_overlap=200)\n",
        "splits = text_splitter.split_documents(docs)\n",
        "\n",
        "# Create Ollama embeddings and vector store\n",
        "embeddings = OllamaEmbeddings(model=\"nomic-embed-text\")\n",
        "vectorstore = FAISS.from_documents(documents=splits, embedding=embeddings)\n",
        "\n",
        "# Define the function to call the Ollama Llama3 model\n",
        "def ollama_llm(question, context):\n",
        "    system_message = (\n",
        "        \"You are a helpful assistant. Answer the question based on the given context. \"\n",
        "        \"If the answer is not in the provided text, just respond with 'I do not know'.\"\n",
        "    )\n",
        "    formatted_prompt = f\"Question: {question}\\n\\nContext: {context}\"\n",
        "    messages = [\n",
        "        {'role': 'system', 'content': system_message},\n",
        "        {'role': 'user', 'content': formatted_prompt}\n",
        "    ]\n",
        "    response = ollama.chat(model='llama3.1', messages=messages)\n",
        "    return response['message']['content']\n",
        "\n",
        "# Define the RAG setup\n",
        "retriever = vectorstore.as_retriever()\n",
        "\n",
        "def rag_chain(question):\n",
        "    retrieved_docs = retriever.invoke(question)\n",
        "    formatted_context = \"\\n\\n\".join(doc.page_content for doc in retrieved_docs)\n",
        "    answer = ollama_llm(question, formatted_context)\n",
        "    return f\"Answer: {answer}\\n\\nUsed Text for Inference:\\n{formatted_context}\"\n",
        "\n",
        "# Define the Gradio interface\n",
        "def get_important_facts(question):\n",
        "    return rag_chain(question)\n",
        "\n",
        "# Create a Gradio app interface\n",
        "iface = gr.Interface(\n",
        "  fn=get_important_facts,\n",
        "  inputs=gr.Textbox(lines=2, placeholder=\"Enter your question here...\"),\n",
        "  outputs=\"text\",\n",
        "  title=\"RAG with Llama3.1\",\n",
        "  description=\"Ask questions about the provided context\",\n",
        ")\n",
        "\n",
        "# Launch the Gradio app\n",
        "iface.launch()\n"
      ]
    }
  ],
  "metadata": {
    "accelerator": "GPU",
    "colab": {
      "gpuType": "T4",
      "provenance": []
    },
    "kernelspec": {
      "display_name": "Python 3",
      "name": "python3"
    },
    "language_info": {
      "codemirror_mode": {
        "name": "ipython",
        "version": 3
      },
      "file_extension": ".py",
      "mimetype": "text/x-python",
      "name": "python",
      "nbconvert_exporter": "python",
      "pygments_lexer": "ipython3",
      "version": "3.9.4"
    }
  },
  "nbformat": 4,
  "nbformat_minor": 0
}
